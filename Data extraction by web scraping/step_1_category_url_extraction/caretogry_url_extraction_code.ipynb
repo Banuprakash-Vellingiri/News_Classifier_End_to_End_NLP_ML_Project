{
 "cells": [
  {
   "cell_type": "markdown",
   "metadata": {},
   "source": [
    "# 🗞️ News Classifier\n",
    "### - ___Building an Automated News Classification System with NLP Techniques___.\n",
    "-------------------------------------------------------------------------------------------------------------"
   ]
  },
  {
   "cell_type": "markdown",
   "metadata": {},
   "source": [
    "## Step 1 : Extracting the Category url from Online News Magazine"
   ]
  },
  {
   "cell_type": "markdown",
   "metadata": {},
   "source": [
    " **\"The Indian Express\"** online news magazine is taken,  to pull news content from different categories include,\n",
    " - Business\n",
    " - Education\n",
    " - Sports \n",
    " - Technology\n",
    " - Entertainment\n",
    " \n",
    "Initially the url's of different categories are scraped using a web scraping tool **\"Selenium\"**."
   ]
  },
  {
   "cell_type": "code",
   "execution_count": 39,
   "metadata": {},
   "outputs": [],
   "source": [
    "#Importing Necessary Libraries\n",
    "import time\n",
    "import pandas as pd\n",
    "from selenium import webdriver\n",
    "from selenium.webdriver.common.keys import Keys\n",
    "from selenium.webdriver.common.by import By \n",
    "from selenium.webdriver.support.ui import WebDriverWait\n",
    "from selenium.webdriver.support import expected_conditions as EC\n",
    "from selenium.webdriver.common.action_chains import ActionChains\n",
    "from tqdm import tqdm\n"
   ]
  },
  {
   "cell_type": "markdown",
   "metadata": {},
   "source": [
    "Extracting url's of different News categories :"
   ]
  },
  {
   "cell_type": "code",
   "execution_count": 40,
   "metadata": {},
   "outputs": [],
   "source": [
    "#Using selenium's google chrome web driver\n",
    "chrome_options = webdriver.ChromeOptions()\n",
    "#Turn off the images,gifs,videos to avoid increased loading time, because these informations are not needed\n",
    "prefs = {\n",
    "    \"profile.managed_default_content_settings.images\": 2,\n",
    "    \"profile.managed_default_content_settings.videos\": 2,\n",
    "    \"profile.managed_default_content_settings.gifs\": 2\n",
    "}\n",
    "chrome_options.add_experimental_option(\"prefs\", prefs)\n",
    "driver = webdriver.Chrome(options=chrome_options)\n",
    "try:\n",
    "    driver.set_page_load_timeout(10)\n",
    "    driver.get(\"https://indianexpress.com/\");\n",
    "except Exception as e:\n",
    "    pass\n",
    "#Scraping the category urls from the website\n",
    "try:\n",
    "    business_section_url      = driver.find_element(By.CSS_SELECTOR,\"#navbar > li:nth-child(6) > a\").get_attribute(\"href\")\n",
    "    education_section_url     = driver.find_element(By.CSS_SELECTOR,\"#navbar > li:nth-child(13) > a\").get_attribute(\"href\")\n",
    "    sports_section_url        = driver.find_element(By.CSS_SELECTOR,\"#navbar > li:nth-child(8) > a\").get_attribute(\"href\")\n",
    "    tech_section_url          = driver.find_element(By.CSS_SELECTOR,\"#navbar > li:nth-child(12) > a\").get_attribute(\"href\")\n",
    "    entertainment_section_url = driver.find_element(By.CSS_SELECTOR,\"#navbar > li:nth-child(7) > a \").get_attribute(\"href\")\n",
    "    \n",
    "except Exception as e:\n",
    "   print(e)    \n",
    "    "
   ]
  },
  {
   "cell_type": "markdown",
   "metadata": {},
   "source": [
    "Connecting with MYSQL database  to store the data :"
   ]
  },
  {
   "cell_type": "code",
   "execution_count": 43,
   "metadata": {},
   "outputs": [],
   "source": [
    "#Importing the mysql library to connect mysql database with python script\n",
    "import mysql.connector"
   ]
  },
  {
   "cell_type": "code",
   "execution_count": 44,
   "metadata": {},
   "outputs": [
    {
     "name": "stdout",
     "output_type": "stream",
     "text": [
      "Connected to MySQL database successfully.\n"
     ]
    }
   ],
   "source": [
    "#Connecting with MYSQL database\n",
    "try:\n",
    "    my_db = mysql.connector.connect(\n",
    "        host=\"localhost\",\n",
    "        user=\"root\",\n",
    "        password=\"123\",\n",
    "        database=\"news_classifier\" \n",
    "    )\n",
    "    print(\"Connected to MySQL database successfully.\")\n",
    "except mysql.connector.Error as err:\n",
    "    print(\"Error connecting to MySQL:\", err)\n",
    "#cursor object\n",
    "my_cursor=my_db.cursor(buffered=True)"
   ]
  },
  {
   "cell_type": "code",
   "execution_count": 45,
   "metadata": {},
   "outputs": [
    {
     "name": "stdout",
     "output_type": "stream",
     "text": [
      "\"category_url\" table created successfully.\n"
     ]
    }
   ],
   "source": [
    "#Table creation\n",
    "try:  \n",
    "        #Create  table \n",
    "        create_table_query = \"\"\"\n",
    "        CREATE TABLE IF NOT EXISTS category_url (\n",
    "            id INT AUTO_INCREMENT PRIMARY KEY,\n",
    "            category VARCHAR(255),\n",
    "            url  TEXT\n",
    "                                                )\n",
    "                                                \"\"\"\n",
    "        my_cursor.execute(create_table_query)\n",
    "        my_db.commit()\n",
    "        print('\"category_url\" table created successfully.')\n",
    "except Exception as e :\n",
    "       print(e)\n"
   ]
  },
  {
   "cell_type": "code",
   "execution_count": 48,
   "metadata": {},
   "outputs": [
    {
     "name": "stdout",
     "output_type": "stream",
     "text": [
      "Data Migrated Sucessfully.\n"
     ]
    }
   ],
   "source": [
    "#Storing the data into database\n",
    "\n",
    "#lists contains categories and their corresponding url.   \n",
    "category_list=[\"business\",\"education\",\"sports\",\"tech\",\"entertainment\"]\n",
    "url_list=[business_section_url,education_section_url,sports_section_url,tech_section_url,entertainment_section_url]\n",
    "#-------------------------------------------------------------------------------------------------------------------\n",
    "for category, url in zip(category_list, url_list):\n",
    "        insert_query = \"\"\"\n",
    "        INSERT INTO category_url (category, url) VALUES (%s, %s)\n",
    "        \"\"\"\n",
    "        values = (category, url)\n",
    "        my_cursor.execute(insert_query, values)\n",
    "        my_db.commit()\n",
    "print(\"Data Migrated Sucessfully.\")"
   ]
  }
 ],
 "metadata": {
  "kernelspec": {
   "display_name": "Python 3",
   "language": "python",
   "name": "python3"
  },
  "language_info": {
   "codemirror_mode": {
    "name": "ipython",
    "version": 3
   },
   "file_extension": ".py",
   "mimetype": "text/x-python",
   "name": "python",
   "nbconvert_exporter": "python",
   "pygments_lexer": "ipython3",
   "version": "3.11.4"
  }
 },
 "nbformat": 4,
 "nbformat_minor": 2
}
